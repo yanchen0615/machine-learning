{
 "cells": [
  {
   "cell_type": "code",
   "execution_count": 1,
   "metadata": {
    "collapsed": true
   },
   "outputs": [],
   "source": [
    "import pandas as pd\n",
    "import numpy as np\n",
    "from sklearn.preprocessing import StandardScaler\n",
    "import matplotlib.pyplot as plt\n",
    "import seaborn as sns"
   ]
  },
  {
   "cell_type": "markdown",
   "metadata": {},
   "source": [
    "# EDA"
   ]
  },
  {
   "cell_type": "code",
   "execution_count": 43,
   "metadata": {
    "collapsed": false
   },
   "outputs": [],
   "source": [
    "data = pd.read_csv(\"BlackFriday.csv\")"
   ]
  },
  {
   "cell_type": "code",
   "execution_count": 44,
   "metadata": {
    "collapsed": false,
    "scrolled": false
   },
   "outputs": [
    {
     "data": {
      "text/html": [
       "<div>\n",
       "<table border=\"1\" class=\"dataframe\">\n",
       "  <thead>\n",
       "    <tr style=\"text-align: right;\">\n",
       "      <th></th>\n",
       "      <th>User_ID</th>\n",
       "      <th>Product_ID</th>\n",
       "      <th>Gender</th>\n",
       "      <th>Age</th>\n",
       "      <th>Occupation</th>\n",
       "      <th>City_Category</th>\n",
       "      <th>Stay_In_Current_City_Years</th>\n",
       "      <th>Marital_Status</th>\n",
       "      <th>Product_Category_1</th>\n",
       "      <th>Product_Category_2</th>\n",
       "      <th>Product_Category_3</th>\n",
       "      <th>Purchase</th>\n",
       "    </tr>\n",
       "  </thead>\n",
       "  <tbody>\n",
       "    <tr>\n",
       "      <th>0</th>\n",
       "      <td>1000001</td>\n",
       "      <td>P00069042</td>\n",
       "      <td>F</td>\n",
       "      <td>0-17</td>\n",
       "      <td>10</td>\n",
       "      <td>A</td>\n",
       "      <td>2</td>\n",
       "      <td>0</td>\n",
       "      <td>3</td>\n",
       "      <td>NaN</td>\n",
       "      <td>NaN</td>\n",
       "      <td>8370</td>\n",
       "    </tr>\n",
       "    <tr>\n",
       "      <th>1</th>\n",
       "      <td>1000001</td>\n",
       "      <td>P00248942</td>\n",
       "      <td>F</td>\n",
       "      <td>0-17</td>\n",
       "      <td>10</td>\n",
       "      <td>A</td>\n",
       "      <td>2</td>\n",
       "      <td>0</td>\n",
       "      <td>1</td>\n",
       "      <td>6.0</td>\n",
       "      <td>14.0</td>\n",
       "      <td>15200</td>\n",
       "    </tr>\n",
       "    <tr>\n",
       "      <th>2</th>\n",
       "      <td>1000001</td>\n",
       "      <td>P00087842</td>\n",
       "      <td>F</td>\n",
       "      <td>0-17</td>\n",
       "      <td>10</td>\n",
       "      <td>A</td>\n",
       "      <td>2</td>\n",
       "      <td>0</td>\n",
       "      <td>12</td>\n",
       "      <td>NaN</td>\n",
       "      <td>NaN</td>\n",
       "      <td>1422</td>\n",
       "    </tr>\n",
       "    <tr>\n",
       "      <th>3</th>\n",
       "      <td>1000001</td>\n",
       "      <td>P00085442</td>\n",
       "      <td>F</td>\n",
       "      <td>0-17</td>\n",
       "      <td>10</td>\n",
       "      <td>A</td>\n",
       "      <td>2</td>\n",
       "      <td>0</td>\n",
       "      <td>12</td>\n",
       "      <td>14.0</td>\n",
       "      <td>NaN</td>\n",
       "      <td>1057</td>\n",
       "    </tr>\n",
       "    <tr>\n",
       "      <th>4</th>\n",
       "      <td>1000002</td>\n",
       "      <td>P00285442</td>\n",
       "      <td>M</td>\n",
       "      <td>55+</td>\n",
       "      <td>16</td>\n",
       "      <td>C</td>\n",
       "      <td>4+</td>\n",
       "      <td>0</td>\n",
       "      <td>8</td>\n",
       "      <td>NaN</td>\n",
       "      <td>NaN</td>\n",
       "      <td>7969</td>\n",
       "    </tr>\n",
       "    <tr>\n",
       "      <th>5</th>\n",
       "      <td>1000003</td>\n",
       "      <td>P00193542</td>\n",
       "      <td>M</td>\n",
       "      <td>26-35</td>\n",
       "      <td>15</td>\n",
       "      <td>A</td>\n",
       "      <td>3</td>\n",
       "      <td>0</td>\n",
       "      <td>1</td>\n",
       "      <td>2.0</td>\n",
       "      <td>NaN</td>\n",
       "      <td>15227</td>\n",
       "    </tr>\n",
       "    <tr>\n",
       "      <th>6</th>\n",
       "      <td>1000004</td>\n",
       "      <td>P00184942</td>\n",
       "      <td>M</td>\n",
       "      <td>46-50</td>\n",
       "      <td>7</td>\n",
       "      <td>B</td>\n",
       "      <td>2</td>\n",
       "      <td>1</td>\n",
       "      <td>1</td>\n",
       "      <td>8.0</td>\n",
       "      <td>17.0</td>\n",
       "      <td>19215</td>\n",
       "    </tr>\n",
       "    <tr>\n",
       "      <th>7</th>\n",
       "      <td>1000004</td>\n",
       "      <td>P00346142</td>\n",
       "      <td>M</td>\n",
       "      <td>46-50</td>\n",
       "      <td>7</td>\n",
       "      <td>B</td>\n",
       "      <td>2</td>\n",
       "      <td>1</td>\n",
       "      <td>1</td>\n",
       "      <td>15.0</td>\n",
       "      <td>NaN</td>\n",
       "      <td>15854</td>\n",
       "    </tr>\n",
       "    <tr>\n",
       "      <th>8</th>\n",
       "      <td>1000004</td>\n",
       "      <td>P0097242</td>\n",
       "      <td>M</td>\n",
       "      <td>46-50</td>\n",
       "      <td>7</td>\n",
       "      <td>B</td>\n",
       "      <td>2</td>\n",
       "      <td>1</td>\n",
       "      <td>1</td>\n",
       "      <td>16.0</td>\n",
       "      <td>NaN</td>\n",
       "      <td>15686</td>\n",
       "    </tr>\n",
       "    <tr>\n",
       "      <th>9</th>\n",
       "      <td>1000005</td>\n",
       "      <td>P00274942</td>\n",
       "      <td>M</td>\n",
       "      <td>26-35</td>\n",
       "      <td>20</td>\n",
       "      <td>A</td>\n",
       "      <td>1</td>\n",
       "      <td>1</td>\n",
       "      <td>8</td>\n",
       "      <td>NaN</td>\n",
       "      <td>NaN</td>\n",
       "      <td>7871</td>\n",
       "    </tr>\n",
       "    <tr>\n",
       "      <th>10</th>\n",
       "      <td>1000005</td>\n",
       "      <td>P00251242</td>\n",
       "      <td>M</td>\n",
       "      <td>26-35</td>\n",
       "      <td>20</td>\n",
       "      <td>A</td>\n",
       "      <td>1</td>\n",
       "      <td>1</td>\n",
       "      <td>5</td>\n",
       "      <td>11.0</td>\n",
       "      <td>NaN</td>\n",
       "      <td>5254</td>\n",
       "    </tr>\n",
       "    <tr>\n",
       "      <th>11</th>\n",
       "      <td>1000005</td>\n",
       "      <td>P00014542</td>\n",
       "      <td>M</td>\n",
       "      <td>26-35</td>\n",
       "      <td>20</td>\n",
       "      <td>A</td>\n",
       "      <td>1</td>\n",
       "      <td>1</td>\n",
       "      <td>8</td>\n",
       "      <td>NaN</td>\n",
       "      <td>NaN</td>\n",
       "      <td>3957</td>\n",
       "    </tr>\n",
       "    <tr>\n",
       "      <th>12</th>\n",
       "      <td>1000005</td>\n",
       "      <td>P00031342</td>\n",
       "      <td>M</td>\n",
       "      <td>26-35</td>\n",
       "      <td>20</td>\n",
       "      <td>A</td>\n",
       "      <td>1</td>\n",
       "      <td>1</td>\n",
       "      <td>8</td>\n",
       "      <td>NaN</td>\n",
       "      <td>NaN</td>\n",
       "      <td>6073</td>\n",
       "    </tr>\n",
       "    <tr>\n",
       "      <th>13</th>\n",
       "      <td>1000005</td>\n",
       "      <td>P00145042</td>\n",
       "      <td>M</td>\n",
       "      <td>26-35</td>\n",
       "      <td>20</td>\n",
       "      <td>A</td>\n",
       "      <td>1</td>\n",
       "      <td>1</td>\n",
       "      <td>1</td>\n",
       "      <td>2.0</td>\n",
       "      <td>5.0</td>\n",
       "      <td>15665</td>\n",
       "    </tr>\n",
       "    <tr>\n",
       "      <th>14</th>\n",
       "      <td>1000006</td>\n",
       "      <td>P00231342</td>\n",
       "      <td>F</td>\n",
       "      <td>51-55</td>\n",
       "      <td>9</td>\n",
       "      <td>A</td>\n",
       "      <td>1</td>\n",
       "      <td>0</td>\n",
       "      <td>5</td>\n",
       "      <td>8.0</td>\n",
       "      <td>14.0</td>\n",
       "      <td>5378</td>\n",
       "    </tr>\n",
       "    <tr>\n",
       "      <th>15</th>\n",
       "      <td>1000006</td>\n",
       "      <td>P00190242</td>\n",
       "      <td>F</td>\n",
       "      <td>51-55</td>\n",
       "      <td>9</td>\n",
       "      <td>A</td>\n",
       "      <td>1</td>\n",
       "      <td>0</td>\n",
       "      <td>4</td>\n",
       "      <td>5.0</td>\n",
       "      <td>NaN</td>\n",
       "      <td>2079</td>\n",
       "    </tr>\n",
       "    <tr>\n",
       "      <th>16</th>\n",
       "      <td>1000006</td>\n",
       "      <td>P0096642</td>\n",
       "      <td>F</td>\n",
       "      <td>51-55</td>\n",
       "      <td>9</td>\n",
       "      <td>A</td>\n",
       "      <td>1</td>\n",
       "      <td>0</td>\n",
       "      <td>2</td>\n",
       "      <td>3.0</td>\n",
       "      <td>4.0</td>\n",
       "      <td>13055</td>\n",
       "    </tr>\n",
       "    <tr>\n",
       "      <th>17</th>\n",
       "      <td>1000006</td>\n",
       "      <td>P00058442</td>\n",
       "      <td>F</td>\n",
       "      <td>51-55</td>\n",
       "      <td>9</td>\n",
       "      <td>A</td>\n",
       "      <td>1</td>\n",
       "      <td>0</td>\n",
       "      <td>5</td>\n",
       "      <td>14.0</td>\n",
       "      <td>NaN</td>\n",
       "      <td>8851</td>\n",
       "    </tr>\n",
       "    <tr>\n",
       "      <th>18</th>\n",
       "      <td>1000007</td>\n",
       "      <td>P00036842</td>\n",
       "      <td>M</td>\n",
       "      <td>36-45</td>\n",
       "      <td>1</td>\n",
       "      <td>B</td>\n",
       "      <td>1</td>\n",
       "      <td>1</td>\n",
       "      <td>1</td>\n",
       "      <td>14.0</td>\n",
       "      <td>16.0</td>\n",
       "      <td>11788</td>\n",
       "    </tr>\n",
       "    <tr>\n",
       "      <th>19</th>\n",
       "      <td>1000008</td>\n",
       "      <td>P00249542</td>\n",
       "      <td>M</td>\n",
       "      <td>26-35</td>\n",
       "      <td>12</td>\n",
       "      <td>C</td>\n",
       "      <td>4+</td>\n",
       "      <td>1</td>\n",
       "      <td>1</td>\n",
       "      <td>5.0</td>\n",
       "      <td>15.0</td>\n",
       "      <td>19614</td>\n",
       "    </tr>\n",
       "    <tr>\n",
       "      <th>20</th>\n",
       "      <td>1000008</td>\n",
       "      <td>P00220442</td>\n",
       "      <td>M</td>\n",
       "      <td>26-35</td>\n",
       "      <td>12</td>\n",
       "      <td>C</td>\n",
       "      <td>4+</td>\n",
       "      <td>1</td>\n",
       "      <td>5</td>\n",
       "      <td>14.0</td>\n",
       "      <td>NaN</td>\n",
       "      <td>8584</td>\n",
       "    </tr>\n",
       "    <tr>\n",
       "      <th>21</th>\n",
       "      <td>1000008</td>\n",
       "      <td>P00156442</td>\n",
       "      <td>M</td>\n",
       "      <td>26-35</td>\n",
       "      <td>12</td>\n",
       "      <td>C</td>\n",
       "      <td>4+</td>\n",
       "      <td>1</td>\n",
       "      <td>8</td>\n",
       "      <td>NaN</td>\n",
       "      <td>NaN</td>\n",
       "      <td>9872</td>\n",
       "    </tr>\n",
       "    <tr>\n",
       "      <th>22</th>\n",
       "      <td>1000008</td>\n",
       "      <td>P00213742</td>\n",
       "      <td>M</td>\n",
       "      <td>26-35</td>\n",
       "      <td>12</td>\n",
       "      <td>C</td>\n",
       "      <td>4+</td>\n",
       "      <td>1</td>\n",
       "      <td>8</td>\n",
       "      <td>NaN</td>\n",
       "      <td>NaN</td>\n",
       "      <td>9743</td>\n",
       "    </tr>\n",
       "    <tr>\n",
       "      <th>23</th>\n",
       "      <td>1000008</td>\n",
       "      <td>P00214442</td>\n",
       "      <td>M</td>\n",
       "      <td>26-35</td>\n",
       "      <td>12</td>\n",
       "      <td>C</td>\n",
       "      <td>4+</td>\n",
       "      <td>1</td>\n",
       "      <td>8</td>\n",
       "      <td>NaN</td>\n",
       "      <td>NaN</td>\n",
       "      <td>5982</td>\n",
       "    </tr>\n",
       "    <tr>\n",
       "      <th>24</th>\n",
       "      <td>1000008</td>\n",
       "      <td>P00303442</td>\n",
       "      <td>M</td>\n",
       "      <td>26-35</td>\n",
       "      <td>12</td>\n",
       "      <td>C</td>\n",
       "      <td>4+</td>\n",
       "      <td>1</td>\n",
       "      <td>1</td>\n",
       "      <td>8.0</td>\n",
       "      <td>14.0</td>\n",
       "      <td>11927</td>\n",
       "    </tr>\n",
       "    <tr>\n",
       "      <th>25</th>\n",
       "      <td>1000009</td>\n",
       "      <td>P00135742</td>\n",
       "      <td>M</td>\n",
       "      <td>26-35</td>\n",
       "      <td>17</td>\n",
       "      <td>C</td>\n",
       "      <td>0</td>\n",
       "      <td>0</td>\n",
       "      <td>6</td>\n",
       "      <td>8.0</td>\n",
       "      <td>NaN</td>\n",
       "      <td>16662</td>\n",
       "    </tr>\n",
       "    <tr>\n",
       "      <th>26</th>\n",
       "      <td>1000009</td>\n",
       "      <td>P00039942</td>\n",
       "      <td>M</td>\n",
       "      <td>26-35</td>\n",
       "      <td>17</td>\n",
       "      <td>C</td>\n",
       "      <td>0</td>\n",
       "      <td>0</td>\n",
       "      <td>8</td>\n",
       "      <td>NaN</td>\n",
       "      <td>NaN</td>\n",
       "      <td>5887</td>\n",
       "    </tr>\n",
       "    <tr>\n",
       "      <th>27</th>\n",
       "      <td>1000009</td>\n",
       "      <td>P00161442</td>\n",
       "      <td>M</td>\n",
       "      <td>26-35</td>\n",
       "      <td>17</td>\n",
       "      <td>C</td>\n",
       "      <td>0</td>\n",
       "      <td>0</td>\n",
       "      <td>5</td>\n",
       "      <td>14.0</td>\n",
       "      <td>NaN</td>\n",
       "      <td>6973</td>\n",
       "    </tr>\n",
       "    <tr>\n",
       "      <th>28</th>\n",
       "      <td>1000009</td>\n",
       "      <td>P00078742</td>\n",
       "      <td>M</td>\n",
       "      <td>26-35</td>\n",
       "      <td>17</td>\n",
       "      <td>C</td>\n",
       "      <td>0</td>\n",
       "      <td>0</td>\n",
       "      <td>5</td>\n",
       "      <td>8.0</td>\n",
       "      <td>14.0</td>\n",
       "      <td>5391</td>\n",
       "    </tr>\n",
       "    <tr>\n",
       "      <th>29</th>\n",
       "      <td>1000010</td>\n",
       "      <td>P00085942</td>\n",
       "      <td>F</td>\n",
       "      <td>36-45</td>\n",
       "      <td>1</td>\n",
       "      <td>B</td>\n",
       "      <td>4+</td>\n",
       "      <td>1</td>\n",
       "      <td>2</td>\n",
       "      <td>4.0</td>\n",
       "      <td>8.0</td>\n",
       "      <td>16352</td>\n",
       "    </tr>\n",
       "    <tr>\n",
       "      <th>...</th>\n",
       "      <td>...</td>\n",
       "      <td>...</td>\n",
       "      <td>...</td>\n",
       "      <td>...</td>\n",
       "      <td>...</td>\n",
       "      <td>...</td>\n",
       "      <td>...</td>\n",
       "      <td>...</td>\n",
       "      <td>...</td>\n",
       "      <td>...</td>\n",
       "      <td>...</td>\n",
       "      <td>...</td>\n",
       "    </tr>\n",
       "    <tr>\n",
       "      <th>9970</th>\n",
       "      <td>1001523</td>\n",
       "      <td>P00114342</td>\n",
       "      <td>M</td>\n",
       "      <td>26-35</td>\n",
       "      <td>17</td>\n",
       "      <td>C</td>\n",
       "      <td>0</td>\n",
       "      <td>0</td>\n",
       "      <td>1</td>\n",
       "      <td>8.0</td>\n",
       "      <td>17.0</td>\n",
       "      <td>19671</td>\n",
       "    </tr>\n",
       "    <tr>\n",
       "      <th>9971</th>\n",
       "      <td>1001523</td>\n",
       "      <td>P00057642</td>\n",
       "      <td>M</td>\n",
       "      <td>26-35</td>\n",
       "      <td>17</td>\n",
       "      <td>C</td>\n",
       "      <td>0</td>\n",
       "      <td>0</td>\n",
       "      <td>1</td>\n",
       "      <td>15.0</td>\n",
       "      <td>16.0</td>\n",
       "      <td>11981</td>\n",
       "    </tr>\n",
       "    <tr>\n",
       "      <th>9972</th>\n",
       "      <td>1001524</td>\n",
       "      <td>P00249842</td>\n",
       "      <td>M</td>\n",
       "      <td>18-25</td>\n",
       "      <td>4</td>\n",
       "      <td>B</td>\n",
       "      <td>1</td>\n",
       "      <td>0</td>\n",
       "      <td>8</td>\n",
       "      <td>NaN</td>\n",
       "      <td>NaN</td>\n",
       "      <td>1939</td>\n",
       "    </tr>\n",
       "    <tr>\n",
       "      <th>9973</th>\n",
       "      <td>1001524</td>\n",
       "      <td>P00278442</td>\n",
       "      <td>M</td>\n",
       "      <td>18-25</td>\n",
       "      <td>4</td>\n",
       "      <td>B</td>\n",
       "      <td>1</td>\n",
       "      <td>0</td>\n",
       "      <td>11</td>\n",
       "      <td>NaN</td>\n",
       "      <td>NaN</td>\n",
       "      <td>4468</td>\n",
       "    </tr>\n",
       "    <tr>\n",
       "      <th>9974</th>\n",
       "      <td>1001524</td>\n",
       "      <td>P00110742</td>\n",
       "      <td>M</td>\n",
       "      <td>18-25</td>\n",
       "      <td>4</td>\n",
       "      <td>B</td>\n",
       "      <td>1</td>\n",
       "      <td>0</td>\n",
       "      <td>1</td>\n",
       "      <td>2.0</td>\n",
       "      <td>8.0</td>\n",
       "      <td>19126</td>\n",
       "    </tr>\n",
       "    <tr>\n",
       "      <th>9975</th>\n",
       "      <td>1001524</td>\n",
       "      <td>P00316242</td>\n",
       "      <td>M</td>\n",
       "      <td>18-25</td>\n",
       "      <td>4</td>\n",
       "      <td>B</td>\n",
       "      <td>1</td>\n",
       "      <td>0</td>\n",
       "      <td>5</td>\n",
       "      <td>NaN</td>\n",
       "      <td>NaN</td>\n",
       "      <td>1895</td>\n",
       "    </tr>\n",
       "    <tr>\n",
       "      <th>9976</th>\n",
       "      <td>1001524</td>\n",
       "      <td>P00244142</td>\n",
       "      <td>M</td>\n",
       "      <td>18-25</td>\n",
       "      <td>4</td>\n",
       "      <td>B</td>\n",
       "      <td>1</td>\n",
       "      <td>0</td>\n",
       "      <td>1</td>\n",
       "      <td>2.0</td>\n",
       "      <td>15.0</td>\n",
       "      <td>11815</td>\n",
       "    </tr>\n",
       "    <tr>\n",
       "      <th>9977</th>\n",
       "      <td>1001524</td>\n",
       "      <td>P00024742</td>\n",
       "      <td>M</td>\n",
       "      <td>18-25</td>\n",
       "      <td>4</td>\n",
       "      <td>B</td>\n",
       "      <td>1</td>\n",
       "      <td>0</td>\n",
       "      <td>8</td>\n",
       "      <td>11.0</td>\n",
       "      <td>NaN</td>\n",
       "      <td>9851</td>\n",
       "    </tr>\n",
       "    <tr>\n",
       "      <th>9978</th>\n",
       "      <td>1001524</td>\n",
       "      <td>P00250642</td>\n",
       "      <td>M</td>\n",
       "      <td>18-25</td>\n",
       "      <td>4</td>\n",
       "      <td>B</td>\n",
       "      <td>1</td>\n",
       "      <td>0</td>\n",
       "      <td>11</td>\n",
       "      <td>NaN</td>\n",
       "      <td>NaN</td>\n",
       "      <td>7549</td>\n",
       "    </tr>\n",
       "    <tr>\n",
       "      <th>9979</th>\n",
       "      <td>1001524</td>\n",
       "      <td>P00288542</td>\n",
       "      <td>M</td>\n",
       "      <td>18-25</td>\n",
       "      <td>4</td>\n",
       "      <td>B</td>\n",
       "      <td>1</td>\n",
       "      <td>0</td>\n",
       "      <td>8</td>\n",
       "      <td>NaN</td>\n",
       "      <td>NaN</td>\n",
       "      <td>8004</td>\n",
       "    </tr>\n",
       "    <tr>\n",
       "      <th>9980</th>\n",
       "      <td>1001524</td>\n",
       "      <td>P00330342</td>\n",
       "      <td>M</td>\n",
       "      <td>18-25</td>\n",
       "      <td>4</td>\n",
       "      <td>B</td>\n",
       "      <td>1</td>\n",
       "      <td>0</td>\n",
       "      <td>5</td>\n",
       "      <td>11.0</td>\n",
       "      <td>16.0</td>\n",
       "      <td>8661</td>\n",
       "    </tr>\n",
       "    <tr>\n",
       "      <th>9981</th>\n",
       "      <td>1001525</td>\n",
       "      <td>P00112442</td>\n",
       "      <td>F</td>\n",
       "      <td>26-35</td>\n",
       "      <td>16</td>\n",
       "      <td>B</td>\n",
       "      <td>3</td>\n",
       "      <td>1</td>\n",
       "      <td>6</td>\n",
       "      <td>8.0</td>\n",
       "      <td>NaN</td>\n",
       "      <td>16386</td>\n",
       "    </tr>\n",
       "    <tr>\n",
       "      <th>9982</th>\n",
       "      <td>1001525</td>\n",
       "      <td>P00215042</td>\n",
       "      <td>F</td>\n",
       "      <td>26-35</td>\n",
       "      <td>16</td>\n",
       "      <td>B</td>\n",
       "      <td>3</td>\n",
       "      <td>1</td>\n",
       "      <td>5</td>\n",
       "      <td>NaN</td>\n",
       "      <td>NaN</td>\n",
       "      <td>5174</td>\n",
       "    </tr>\n",
       "    <tr>\n",
       "      <th>9983</th>\n",
       "      <td>1001525</td>\n",
       "      <td>P00115742</td>\n",
       "      <td>F</td>\n",
       "      <td>26-35</td>\n",
       "      <td>16</td>\n",
       "      <td>B</td>\n",
       "      <td>3</td>\n",
       "      <td>1</td>\n",
       "      <td>6</td>\n",
       "      <td>10.0</td>\n",
       "      <td>16.0</td>\n",
       "      <td>12650</td>\n",
       "    </tr>\n",
       "    <tr>\n",
       "      <th>9984</th>\n",
       "      <td>1001525</td>\n",
       "      <td>P00265742</td>\n",
       "      <td>F</td>\n",
       "      <td>26-35</td>\n",
       "      <td>16</td>\n",
       "      <td>B</td>\n",
       "      <td>3</td>\n",
       "      <td>1</td>\n",
       "      <td>5</td>\n",
       "      <td>12.0</td>\n",
       "      <td>NaN</td>\n",
       "      <td>5200</td>\n",
       "    </tr>\n",
       "    <tr>\n",
       "      <th>9985</th>\n",
       "      <td>1001525</td>\n",
       "      <td>P00120742</td>\n",
       "      <td>F</td>\n",
       "      <td>26-35</td>\n",
       "      <td>16</td>\n",
       "      <td>B</td>\n",
       "      <td>3</td>\n",
       "      <td>1</td>\n",
       "      <td>8</td>\n",
       "      <td>12.0</td>\n",
       "      <td>17.0</td>\n",
       "      <td>3962</td>\n",
       "    </tr>\n",
       "    <tr>\n",
       "      <th>9986</th>\n",
       "      <td>1001526</td>\n",
       "      <td>P00329442</td>\n",
       "      <td>M</td>\n",
       "      <td>55+</td>\n",
       "      <td>17</td>\n",
       "      <td>C</td>\n",
       "      <td>4+</td>\n",
       "      <td>1</td>\n",
       "      <td>5</td>\n",
       "      <td>8.0</td>\n",
       "      <td>NaN</td>\n",
       "      <td>7103</td>\n",
       "    </tr>\n",
       "    <tr>\n",
       "      <th>9987</th>\n",
       "      <td>1001526</td>\n",
       "      <td>P00110042</td>\n",
       "      <td>M</td>\n",
       "      <td>55+</td>\n",
       "      <td>17</td>\n",
       "      <td>C</td>\n",
       "      <td>4+</td>\n",
       "      <td>1</td>\n",
       "      <td>5</td>\n",
       "      <td>14.0</td>\n",
       "      <td>NaN</td>\n",
       "      <td>7018</td>\n",
       "    </tr>\n",
       "    <tr>\n",
       "      <th>9988</th>\n",
       "      <td>1001527</td>\n",
       "      <td>P00330342</td>\n",
       "      <td>M</td>\n",
       "      <td>18-25</td>\n",
       "      <td>10</td>\n",
       "      <td>C</td>\n",
       "      <td>1</td>\n",
       "      <td>1</td>\n",
       "      <td>5</td>\n",
       "      <td>11.0</td>\n",
       "      <td>16.0</td>\n",
       "      <td>5337</td>\n",
       "    </tr>\n",
       "    <tr>\n",
       "      <th>9989</th>\n",
       "      <td>1001527</td>\n",
       "      <td>P00224842</td>\n",
       "      <td>M</td>\n",
       "      <td>18-25</td>\n",
       "      <td>10</td>\n",
       "      <td>C</td>\n",
       "      <td>1</td>\n",
       "      <td>1</td>\n",
       "      <td>8</td>\n",
       "      <td>NaN</td>\n",
       "      <td>NaN</td>\n",
       "      <td>8009</td>\n",
       "    </tr>\n",
       "    <tr>\n",
       "      <th>9990</th>\n",
       "      <td>1001527</td>\n",
       "      <td>P00351342</td>\n",
       "      <td>M</td>\n",
       "      <td>18-25</td>\n",
       "      <td>10</td>\n",
       "      <td>C</td>\n",
       "      <td>1</td>\n",
       "      <td>1</td>\n",
       "      <td>1</td>\n",
       "      <td>2.0</td>\n",
       "      <td>16.0</td>\n",
       "      <td>12039</td>\n",
       "    </tr>\n",
       "    <tr>\n",
       "      <th>9991</th>\n",
       "      <td>1001527</td>\n",
       "      <td>P00293542</td>\n",
       "      <td>M</td>\n",
       "      <td>18-25</td>\n",
       "      <td>10</td>\n",
       "      <td>C</td>\n",
       "      <td>1</td>\n",
       "      <td>1</td>\n",
       "      <td>8</td>\n",
       "      <td>NaN</td>\n",
       "      <td>NaN</td>\n",
       "      <td>9798</td>\n",
       "    </tr>\n",
       "    <tr>\n",
       "      <th>9992</th>\n",
       "      <td>1001527</td>\n",
       "      <td>P00366542</td>\n",
       "      <td>M</td>\n",
       "      <td>18-25</td>\n",
       "      <td>10</td>\n",
       "      <td>C</td>\n",
       "      <td>1</td>\n",
       "      <td>1</td>\n",
       "      <td>5</td>\n",
       "      <td>NaN</td>\n",
       "      <td>NaN</td>\n",
       "      <td>8686</td>\n",
       "    </tr>\n",
       "    <tr>\n",
       "      <th>9993</th>\n",
       "      <td>1001528</td>\n",
       "      <td>P00230942</td>\n",
       "      <td>M</td>\n",
       "      <td>26-35</td>\n",
       "      <td>15</td>\n",
       "      <td>C</td>\n",
       "      <td>1</td>\n",
       "      <td>0</td>\n",
       "      <td>5</td>\n",
       "      <td>14.0</td>\n",
       "      <td>NaN</td>\n",
       "      <td>8743</td>\n",
       "    </tr>\n",
       "    <tr>\n",
       "      <th>9994</th>\n",
       "      <td>1001530</td>\n",
       "      <td>P00028842</td>\n",
       "      <td>M</td>\n",
       "      <td>26-35</td>\n",
       "      <td>4</td>\n",
       "      <td>A</td>\n",
       "      <td>1</td>\n",
       "      <td>1</td>\n",
       "      <td>6</td>\n",
       "      <td>8.0</td>\n",
       "      <td>NaN</td>\n",
       "      <td>20138</td>\n",
       "    </tr>\n",
       "    <tr>\n",
       "      <th>9995</th>\n",
       "      <td>1001530</td>\n",
       "      <td>P00151742</td>\n",
       "      <td>M</td>\n",
       "      <td>26-35</td>\n",
       "      <td>4</td>\n",
       "      <td>A</td>\n",
       "      <td>1</td>\n",
       "      <td>1</td>\n",
       "      <td>8</td>\n",
       "      <td>15.0</td>\n",
       "      <td>16.0</td>\n",
       "      <td>7967</td>\n",
       "    </tr>\n",
       "    <tr>\n",
       "      <th>9996</th>\n",
       "      <td>1001530</td>\n",
       "      <td>P00119742</td>\n",
       "      <td>M</td>\n",
       "      <td>26-35</td>\n",
       "      <td>4</td>\n",
       "      <td>A</td>\n",
       "      <td>1</td>\n",
       "      <td>1</td>\n",
       "      <td>5</td>\n",
       "      <td>8.0</td>\n",
       "      <td>12.0</td>\n",
       "      <td>8590</td>\n",
       "    </tr>\n",
       "    <tr>\n",
       "      <th>9997</th>\n",
       "      <td>1001530</td>\n",
       "      <td>P00178842</td>\n",
       "      <td>M</td>\n",
       "      <td>26-35</td>\n",
       "      <td>4</td>\n",
       "      <td>A</td>\n",
       "      <td>1</td>\n",
       "      <td>1</td>\n",
       "      <td>2</td>\n",
       "      <td>4.0</td>\n",
       "      <td>9.0</td>\n",
       "      <td>13147</td>\n",
       "    </tr>\n",
       "    <tr>\n",
       "      <th>9998</th>\n",
       "      <td>1001530</td>\n",
       "      <td>P00124842</td>\n",
       "      <td>M</td>\n",
       "      <td>26-35</td>\n",
       "      <td>4</td>\n",
       "      <td>A</td>\n",
       "      <td>1</td>\n",
       "      <td>1</td>\n",
       "      <td>11</td>\n",
       "      <td>NaN</td>\n",
       "      <td>NaN</td>\n",
       "      <td>5975</td>\n",
       "    </tr>\n",
       "    <tr>\n",
       "      <th>9999</th>\n",
       "      <td>1001530</td>\n",
       "      <td>P00343042</td>\n",
       "      <td>M</td>\n",
       "      <td>26-35</td>\n",
       "      <td>4</td>\n",
       "      <td>A</td>\n",
       "      <td>1</td>\n",
       "      <td>1</td>\n",
       "      <td>5</td>\n",
       "      <td>18.0</td>\n",
       "      <td>NaN</td>\n",
       "      <td>8653</td>\n",
       "    </tr>\n",
       "  </tbody>\n",
       "</table>\n",
       "<p>10000 rows × 12 columns</p>\n",
       "</div>"
      ],
      "text/plain": [
       "      User_ID Product_ID Gender    Age  Occupation City_Category  \\\n",
       "0     1000001  P00069042      F   0-17          10             A   \n",
       "1     1000001  P00248942      F   0-17          10             A   \n",
       "2     1000001  P00087842      F   0-17          10             A   \n",
       "3     1000001  P00085442      F   0-17          10             A   \n",
       "4     1000002  P00285442      M    55+          16             C   \n",
       "5     1000003  P00193542      M  26-35          15             A   \n",
       "6     1000004  P00184942      M  46-50           7             B   \n",
       "7     1000004  P00346142      M  46-50           7             B   \n",
       "8     1000004   P0097242      M  46-50           7             B   \n",
       "9     1000005  P00274942      M  26-35          20             A   \n",
       "10    1000005  P00251242      M  26-35          20             A   \n",
       "11    1000005  P00014542      M  26-35          20             A   \n",
       "12    1000005  P00031342      M  26-35          20             A   \n",
       "13    1000005  P00145042      M  26-35          20             A   \n",
       "14    1000006  P00231342      F  51-55           9             A   \n",
       "15    1000006  P00190242      F  51-55           9             A   \n",
       "16    1000006   P0096642      F  51-55           9             A   \n",
       "17    1000006  P00058442      F  51-55           9             A   \n",
       "18    1000007  P00036842      M  36-45           1             B   \n",
       "19    1000008  P00249542      M  26-35          12             C   \n",
       "20    1000008  P00220442      M  26-35          12             C   \n",
       "21    1000008  P00156442      M  26-35          12             C   \n",
       "22    1000008  P00213742      M  26-35          12             C   \n",
       "23    1000008  P00214442      M  26-35          12             C   \n",
       "24    1000008  P00303442      M  26-35          12             C   \n",
       "25    1000009  P00135742      M  26-35          17             C   \n",
       "26    1000009  P00039942      M  26-35          17             C   \n",
       "27    1000009  P00161442      M  26-35          17             C   \n",
       "28    1000009  P00078742      M  26-35          17             C   \n",
       "29    1000010  P00085942      F  36-45           1             B   \n",
       "...       ...        ...    ...    ...         ...           ...   \n",
       "9970  1001523  P00114342      M  26-35          17             C   \n",
       "9971  1001523  P00057642      M  26-35          17             C   \n",
       "9972  1001524  P00249842      M  18-25           4             B   \n",
       "9973  1001524  P00278442      M  18-25           4             B   \n",
       "9974  1001524  P00110742      M  18-25           4             B   \n",
       "9975  1001524  P00316242      M  18-25           4             B   \n",
       "9976  1001524  P00244142      M  18-25           4             B   \n",
       "9977  1001524  P00024742      M  18-25           4             B   \n",
       "9978  1001524  P00250642      M  18-25           4             B   \n",
       "9979  1001524  P00288542      M  18-25           4             B   \n",
       "9980  1001524  P00330342      M  18-25           4             B   \n",
       "9981  1001525  P00112442      F  26-35          16             B   \n",
       "9982  1001525  P00215042      F  26-35          16             B   \n",
       "9983  1001525  P00115742      F  26-35          16             B   \n",
       "9984  1001525  P00265742      F  26-35          16             B   \n",
       "9985  1001525  P00120742      F  26-35          16             B   \n",
       "9986  1001526  P00329442      M    55+          17             C   \n",
       "9987  1001526  P00110042      M    55+          17             C   \n",
       "9988  1001527  P00330342      M  18-25          10             C   \n",
       "9989  1001527  P00224842      M  18-25          10             C   \n",
       "9990  1001527  P00351342      M  18-25          10             C   \n",
       "9991  1001527  P00293542      M  18-25          10             C   \n",
       "9992  1001527  P00366542      M  18-25          10             C   \n",
       "9993  1001528  P00230942      M  26-35          15             C   \n",
       "9994  1001530  P00028842      M  26-35           4             A   \n",
       "9995  1001530  P00151742      M  26-35           4             A   \n",
       "9996  1001530  P00119742      M  26-35           4             A   \n",
       "9997  1001530  P00178842      M  26-35           4             A   \n",
       "9998  1001530  P00124842      M  26-35           4             A   \n",
       "9999  1001530  P00343042      M  26-35           4             A   \n",
       "\n",
       "     Stay_In_Current_City_Years  Marital_Status  Product_Category_1  \\\n",
       "0                             2               0                   3   \n",
       "1                             2               0                   1   \n",
       "2                             2               0                  12   \n",
       "3                             2               0                  12   \n",
       "4                            4+               0                   8   \n",
       "5                             3               0                   1   \n",
       "6                             2               1                   1   \n",
       "7                             2               1                   1   \n",
       "8                             2               1                   1   \n",
       "9                             1               1                   8   \n",
       "10                            1               1                   5   \n",
       "11                            1               1                   8   \n",
       "12                            1               1                   8   \n",
       "13                            1               1                   1   \n",
       "14                            1               0                   5   \n",
       "15                            1               0                   4   \n",
       "16                            1               0                   2   \n",
       "17                            1               0                   5   \n",
       "18                            1               1                   1   \n",
       "19                           4+               1                   1   \n",
       "20                           4+               1                   5   \n",
       "21                           4+               1                   8   \n",
       "22                           4+               1                   8   \n",
       "23                           4+               1                   8   \n",
       "24                           4+               1                   1   \n",
       "25                            0               0                   6   \n",
       "26                            0               0                   8   \n",
       "27                            0               0                   5   \n",
       "28                            0               0                   5   \n",
       "29                           4+               1                   2   \n",
       "...                         ...             ...                 ...   \n",
       "9970                          0               0                   1   \n",
       "9971                          0               0                   1   \n",
       "9972                          1               0                   8   \n",
       "9973                          1               0                  11   \n",
       "9974                          1               0                   1   \n",
       "9975                          1               0                   5   \n",
       "9976                          1               0                   1   \n",
       "9977                          1               0                   8   \n",
       "9978                          1               0                  11   \n",
       "9979                          1               0                   8   \n",
       "9980                          1               0                   5   \n",
       "9981                          3               1                   6   \n",
       "9982                          3               1                   5   \n",
       "9983                          3               1                   6   \n",
       "9984                          3               1                   5   \n",
       "9985                          3               1                   8   \n",
       "9986                         4+               1                   5   \n",
       "9987                         4+               1                   5   \n",
       "9988                          1               1                   5   \n",
       "9989                          1               1                   8   \n",
       "9990                          1               1                   1   \n",
       "9991                          1               1                   8   \n",
       "9992                          1               1                   5   \n",
       "9993                          1               0                   5   \n",
       "9994                          1               1                   6   \n",
       "9995                          1               1                   8   \n",
       "9996                          1               1                   5   \n",
       "9997                          1               1                   2   \n",
       "9998                          1               1                  11   \n",
       "9999                          1               1                   5   \n",
       "\n",
       "      Product_Category_2  Product_Category_3  Purchase  \n",
       "0                    NaN                 NaN      8370  \n",
       "1                    6.0                14.0     15200  \n",
       "2                    NaN                 NaN      1422  \n",
       "3                   14.0                 NaN      1057  \n",
       "4                    NaN                 NaN      7969  \n",
       "5                    2.0                 NaN     15227  \n",
       "6                    8.0                17.0     19215  \n",
       "7                   15.0                 NaN     15854  \n",
       "8                   16.0                 NaN     15686  \n",
       "9                    NaN                 NaN      7871  \n",
       "10                  11.0                 NaN      5254  \n",
       "11                   NaN                 NaN      3957  \n",
       "12                   NaN                 NaN      6073  \n",
       "13                   2.0                 5.0     15665  \n",
       "14                   8.0                14.0      5378  \n",
       "15                   5.0                 NaN      2079  \n",
       "16                   3.0                 4.0     13055  \n",
       "17                  14.0                 NaN      8851  \n",
       "18                  14.0                16.0     11788  \n",
       "19                   5.0                15.0     19614  \n",
       "20                  14.0                 NaN      8584  \n",
       "21                   NaN                 NaN      9872  \n",
       "22                   NaN                 NaN      9743  \n",
       "23                   NaN                 NaN      5982  \n",
       "24                   8.0                14.0     11927  \n",
       "25                   8.0                 NaN     16662  \n",
       "26                   NaN                 NaN      5887  \n",
       "27                  14.0                 NaN      6973  \n",
       "28                   8.0                14.0      5391  \n",
       "29                   4.0                 8.0     16352  \n",
       "...                  ...                 ...       ...  \n",
       "9970                 8.0                17.0     19671  \n",
       "9971                15.0                16.0     11981  \n",
       "9972                 NaN                 NaN      1939  \n",
       "9973                 NaN                 NaN      4468  \n",
       "9974                 2.0                 8.0     19126  \n",
       "9975                 NaN                 NaN      1895  \n",
       "9976                 2.0                15.0     11815  \n",
       "9977                11.0                 NaN      9851  \n",
       "9978                 NaN                 NaN      7549  \n",
       "9979                 NaN                 NaN      8004  \n",
       "9980                11.0                16.0      8661  \n",
       "9981                 8.0                 NaN     16386  \n",
       "9982                 NaN                 NaN      5174  \n",
       "9983                10.0                16.0     12650  \n",
       "9984                12.0                 NaN      5200  \n",
       "9985                12.0                17.0      3962  \n",
       "9986                 8.0                 NaN      7103  \n",
       "9987                14.0                 NaN      7018  \n",
       "9988                11.0                16.0      5337  \n",
       "9989                 NaN                 NaN      8009  \n",
       "9990                 2.0                16.0     12039  \n",
       "9991                 NaN                 NaN      9798  \n",
       "9992                 NaN                 NaN      8686  \n",
       "9993                14.0                 NaN      8743  \n",
       "9994                 8.0                 NaN     20138  \n",
       "9995                15.0                16.0      7967  \n",
       "9996                 8.0                12.0      8590  \n",
       "9997                 4.0                 9.0     13147  \n",
       "9998                 NaN                 NaN      5975  \n",
       "9999                18.0                 NaN      8653  \n",
       "\n",
       "[10000 rows x 12 columns]"
      ]
     },
     "execution_count": 44,
     "metadata": {},
     "output_type": "execute_result"
    }
   ],
   "source": [
    "data"
   ]
  },
  {
   "cell_type": "markdown",
   "metadata": {},
   "source": [
    "### Drop the columns of User_ID and Product ID."
   ]
  },
  {
   "cell_type": "code",
   "execution_count": 45,
   "metadata": {
    "collapsed": false
   },
   "outputs": [],
   "source": [
    "data = data.drop(['User_ID','Product_ID'], axis = 1)"
   ]
  },
  {
   "cell_type": "code",
   "execution_count": 46,
   "metadata": {
    "collapsed": false
   },
   "outputs": [
    {
     "data": {
      "text/html": [
       "<div>\n",
       "<table border=\"1\" class=\"dataframe\">\n",
       "  <thead>\n",
       "    <tr style=\"text-align: right;\">\n",
       "      <th></th>\n",
       "      <th>Occupation</th>\n",
       "      <th>Marital_Status</th>\n",
       "      <th>Product_Category_1</th>\n",
       "      <th>Product_Category_2</th>\n",
       "      <th>Product_Category_3</th>\n",
       "      <th>Purchase</th>\n",
       "    </tr>\n",
       "  </thead>\n",
       "  <tbody>\n",
       "    <tr>\n",
       "      <th>count</th>\n",
       "      <td>10000.000000</td>\n",
       "      <td>10000.000000</td>\n",
       "      <td>10000.000000</td>\n",
       "      <td>6757.000000</td>\n",
       "      <td>2997.000000</td>\n",
       "      <td>10000.000000</td>\n",
       "    </tr>\n",
       "    <tr>\n",
       "      <th>mean</th>\n",
       "      <td>8.433700</td>\n",
       "      <td>0.405300</td>\n",
       "      <td>5.292800</td>\n",
       "      <td>9.796359</td>\n",
       "      <td>12.811144</td>\n",
       "      <td>9152.487700</td>\n",
       "    </tr>\n",
       "    <tr>\n",
       "      <th>std</th>\n",
       "      <td>6.660333</td>\n",
       "      <td>0.490975</td>\n",
       "      <td>3.660739</td>\n",
       "      <td>5.055550</td>\n",
       "      <td>4.057049</td>\n",
       "      <td>4881.543001</td>\n",
       "    </tr>\n",
       "    <tr>\n",
       "      <th>min</th>\n",
       "      <td>0.000000</td>\n",
       "      <td>0.000000</td>\n",
       "      <td>1.000000</td>\n",
       "      <td>2.000000</td>\n",
       "      <td>3.000000</td>\n",
       "      <td>186.000000</td>\n",
       "    </tr>\n",
       "    <tr>\n",
       "      <th>25%</th>\n",
       "      <td>3.000000</td>\n",
       "      <td>0.000000</td>\n",
       "      <td>2.000000</td>\n",
       "      <td>5.000000</td>\n",
       "      <td>9.000000</td>\n",
       "      <td>5831.750000</td>\n",
       "    </tr>\n",
       "    <tr>\n",
       "      <th>50%</th>\n",
       "      <td>7.000000</td>\n",
       "      <td>0.000000</td>\n",
       "      <td>5.000000</td>\n",
       "      <td>9.000000</td>\n",
       "      <td>14.000000</td>\n",
       "      <td>8021.500000</td>\n",
       "    </tr>\n",
       "    <tr>\n",
       "      <th>75%</th>\n",
       "      <td>15.000000</td>\n",
       "      <td>1.000000</td>\n",
       "      <td>8.000000</td>\n",
       "      <td>14.000000</td>\n",
       "      <td>16.000000</td>\n",
       "      <td>11922.250000</td>\n",
       "    </tr>\n",
       "    <tr>\n",
       "      <th>max</th>\n",
       "      <td>20.000000</td>\n",
       "      <td>1.000000</td>\n",
       "      <td>18.000000</td>\n",
       "      <td>18.000000</td>\n",
       "      <td>18.000000</td>\n",
       "      <td>23958.000000</td>\n",
       "    </tr>\n",
       "  </tbody>\n",
       "</table>\n",
       "</div>"
      ],
      "text/plain": [
       "         Occupation  Marital_Status  Product_Category_1  Product_Category_2  \\\n",
       "count  10000.000000    10000.000000        10000.000000         6757.000000   \n",
       "mean       8.433700        0.405300            5.292800            9.796359   \n",
       "std        6.660333        0.490975            3.660739            5.055550   \n",
       "min        0.000000        0.000000            1.000000            2.000000   \n",
       "25%        3.000000        0.000000            2.000000            5.000000   \n",
       "50%        7.000000        0.000000            5.000000            9.000000   \n",
       "75%       15.000000        1.000000            8.000000           14.000000   \n",
       "max       20.000000        1.000000           18.000000           18.000000   \n",
       "\n",
       "       Product_Category_3      Purchase  \n",
       "count         2997.000000  10000.000000  \n",
       "mean            12.811144   9152.487700  \n",
       "std              4.057049   4881.543001  \n",
       "min              3.000000    186.000000  \n",
       "25%              9.000000   5831.750000  \n",
       "50%             14.000000   8021.500000  \n",
       "75%             16.000000  11922.250000  \n",
       "max             18.000000  23958.000000  "
      ]
     },
     "execution_count": 46,
     "metadata": {},
     "output_type": "execute_result"
    }
   ],
   "source": [
    "data.describe()"
   ]
  },
  {
   "cell_type": "markdown",
   "metadata": {},
   "source": [
    " The count values of \"Product_Category_2\" and \"Product_Category_3\" are lower than the other features. "
   ]
  },
  {
   "cell_type": "markdown",
   "metadata": {},
   "source": [
    "It means that there are lots of missing values in these twe columns."
   ]
  },
  {
   "cell_type": "code",
   "execution_count": 47,
   "metadata": {
    "collapsed": false
   },
   "outputs": [
    {
     "data": {
      "text/plain": [
       "Gender                           0\n",
       "Age                              0\n",
       "Occupation                       0\n",
       "City_Category                    0\n",
       "Stay_In_Current_City_Years       0\n",
       "Marital_Status                   0\n",
       "Product_Category_1               0\n",
       "Product_Category_2            3243\n",
       "Product_Category_3            7003\n",
       "Purchase                         0\n",
       "dtype: int64"
      ]
     },
     "execution_count": 47,
     "metadata": {},
     "output_type": "execute_result"
    }
   ],
   "source": [
    "data.isnull().sum()"
   ]
  },
  {
   "cell_type": "markdown",
   "metadata": {},
   "source": [
    " From my viewpoint, the missing value in those two columns indicates that the consumer did not perchurse anything belonged to catogory 2 and/or catogory 3."
   ]
  },
  {
   "cell_type": "markdown",
   "metadata": {},
   "source": [
    " Hence, I fill the null with 0 to do further analyze."
   ]
  },
  {
   "cell_type": "code",
   "execution_count": 48,
   "metadata": {
    "collapsed": false
   },
   "outputs": [],
   "source": [
    "data = data.fillna(0)"
   ]
  },
  {
   "cell_type": "code",
   "execution_count": 49,
   "metadata": {
    "collapsed": false
   },
   "outputs": [
    {
     "data": {
      "text/plain": [
       "<seaborn.axisgrid.PairGrid at 0x7fdf567a7080>"
      ]
     },
     "execution_count": 49,
     "metadata": {},
     "output_type": "execute_result"
    },
    {
     "data": {
      "text/plain": [
       "<matplotlib.figure.Figure at 0x7fdf5c0e7e10>"
      ]
     },
     "metadata": {},
     "output_type": "display_data"
    },
    {
     "data": {
      "image/png": "[encoded data removed]",
      "text/plain": [
       "<matplotlib.figure.Figure at 0x7fdf5c15c6d8>"
      ]
     },
     "metadata": {},
     "output_type": "display_data"
    }
   ],
   "source": [
    "import seaborn as sns\n",
    "%matplotlib inline\n",
    "plt.figure()\n",
    "sns.pairplot(data)"
   ]
  },
  {
   "cell_type": "markdown",
   "metadata": {},
   "source": [
    " From the above plot, the correlation between \"Purchase\" and the other features seems very low since the points on plot are dramatically discrete. "
   ]
  },
  {
   "cell_type": "markdown",
   "metadata": {},
   "source": [
    "It is reasonable to speculate that the R square will be very small since the low correlation between the independent variables and the dependent variables."
   ]
  },
  {
   "cell_type": "markdown",
   "metadata": {},
   "source": [
    "### Categorical data"
   ]
  },
  {
   "cell_type": "code",
   "execution_count": 50,
   "metadata": {
    "collapsed": false
   },
   "outputs": [
    {
     "data": {
      "text/plain": [
       "<matplotlib.axes._subplots.AxesSubplot at 0x7fdf55ca9d68>"
      ]
     },
     "execution_count": 50,
     "metadata": {},
     "output_type": "execute_result"
    },
    {
     "data": {
      "image/png": "[encoded data removed]",
      "text/plain": [
       "<matplotlib.figure.Figure at 0x7fdf56469ac8>"
      ]
     },
     "metadata": {},
     "output_type": "display_data"
    }
   ],
   "source": [
    "data.loc[:,'Gender'].value_counts().plot(kind='bar')"
   ]
  },
  {
   "cell_type": "markdown",
   "metadata": {},
   "source": [
    " The male consumer is the majority in this dataset."
   ]
  },
  {
   "cell_type": "code",
   "execution_count": 51,
   "metadata": {
    "collapsed": false
   },
   "outputs": [
    {
     "data": {
      "text/plain": [
       "<matplotlib.axes._subplots.AxesSubplot at 0x7fdf55a824e0>"
      ]
     },
     "execution_count": 51,
     "metadata": {},
     "output_type": "execute_result"
    },
    {
     "data": {
      "image/png": "[encoded data removed]",
      "text/plain": [
       "<matplotlib.figure.Figure at 0x7fdf55d15c18>"
      ]
     },
     "metadata": {},
     "output_type": "display_data"
    }
   ],
   "source": [
    "data.loc[:,'Age'].value_counts().plot(kind='bar')"
   ]
  },
  {
   "cell_type": "markdown",
   "metadata": {},
   "source": [
    " Most of the consumers are age from 26 to 45. The older and the children are minors. "
   ]
  },
  {
   "cell_type": "code",
   "execution_count": 52,
   "metadata": {
    "collapsed": false
   },
   "outputs": [
    {
     "data": {
      "text/plain": [
       "<matplotlib.axes._subplots.AxesSubplot at 0x7fdf55a39438>"
      ]
     },
     "execution_count": 52,
     "metadata": {},
     "output_type": "execute_result"
    },
    {
     "data": {
      "image/png": "[encoded data removed]",
      "text/plain": [
       "<matplotlib.figure.Figure at 0x7fdf559c77f0>"
      ]
     },
     "metadata": {},
     "output_type": "display_data"
    }
   ],
   "source": [
    "data.loc[:,'Occupation'].value_counts().plot(kind='bar')"
   ]
  },
  {
   "cell_type": "code",
   "execution_count": 53,
   "metadata": {
    "collapsed": false
   },
   "outputs": [
    {
     "data": {
      "text/plain": [
       "<matplotlib.axes._subplots.AxesSubplot at 0x7fdf559ad0f0>"
      ]
     },
     "execution_count": 53,
     "metadata": {},
     "output_type": "execute_result"
    },
    {
     "data": {
      "image/png": "[encoded data removed]",
      "text/plain": [
       "<matplotlib.figure.Figure at 0x7fdf562f2c50>"
      ]
     },
     "metadata": {},
     "output_type": "display_data"
    }
   ],
   "source": [
    "data.loc[:,'City_Category'].value_counts().plot(kind='bar')"
   ]
  },
  {
   "cell_type": "markdown",
   "metadata": {},
   "source": [
    "### Preprocess the data, e.g. categorical data, etc."
   ]
  },
  {
   "cell_type": "markdown",
   "metadata": {},
   "source": [
    "#### Turn the catogory data such as 'Gender Age','Occupation','age','City_Category' and 'Stay_In_Current_City_Years' into digital data."
   ]
  },
  {
   "cell_type": "markdown",
   "metadata": {},
   "source": [
    "#### Then convert those digital variables into dummy variables."
   ]
  },
  {
   "cell_type": "code",
   "execution_count": 54,
   "metadata": {
    "collapsed": true
   },
   "outputs": [],
   "source": [
    "gender = data.loc[:,\"Gender\"]"
   ]
  },
  {
   "cell_type": "code",
   "execution_count": 55,
   "metadata": {
    "collapsed": false
   },
   "outputs": [
    {
     "data": {
      "text/plain": [
       "M    7636\n",
       "F    2364\n",
       "Name: Gender, dtype: int64"
      ]
     },
     "execution_count": 55,
     "metadata": {},
     "output_type": "execute_result"
    }
   ],
   "source": [
    "gender.value_counts()"
   ]
  },
  {
   "cell_type": "code",
   "execution_count": 56,
   "metadata": {
    "collapsed": true
   },
   "outputs": [],
   "source": [
    "gender_mapping = {'M':1, 'F':0}"
   ]
  },
  {
   "cell_type": "code",
   "execution_count": 57,
   "metadata": {
    "collapsed": true
   },
   "outputs": [],
   "source": [
    "data.loc[:,'Gender'] = data.loc[:,'Gender'].map(gender_mapping)"
   ]
  },
  {
   "cell_type": "code",
   "execution_count": 60,
   "metadata": {
    "collapsed": true
   },
   "outputs": [],
   "source": [
    "city = data.loc[:,\"City_Category\"]"
   ]
  },
  {
   "cell_type": "code",
   "execution_count": 61,
   "metadata": {
    "collapsed": false
   },
   "outputs": [
    {
     "data": {
      "text/plain": [
       "B    3711\n",
       "A    3346\n",
       "C    2943\n",
       "Name: City_Category, dtype: int64"
      ]
     },
     "execution_count": 61,
     "metadata": {},
     "output_type": "execute_result"
    }
   ],
   "source": [
    "city.value_counts()"
   ]
  },
  {
   "cell_type": "code",
   "execution_count": 62,
   "metadata": {
    "collapsed": true
   },
   "outputs": [],
   "source": [
    "city_mapping = {'A':0, 'B':1, 'C':2}"
   ]
  },
  {
   "cell_type": "code",
   "execution_count": 63,
   "metadata": {
    "collapsed": true
   },
   "outputs": [],
   "source": [
    "data.loc[:,'City_Category'] = data.loc[:,'City_Category'].map(city_mapping)"
   ]
  },
  {
   "cell_type": "code",
   "execution_count": 64,
   "metadata": {
    "collapsed": true
   },
   "outputs": [],
   "source": [
    "city_B = pd.get_dummies(data.loc[:,'City_Category'])[1]\n",
    "city_C = pd.get_dummies(data.loc[:,'City_Category'])[2]"
   ]
  },
  {
   "cell_type": "code",
   "execution_count": 65,
   "metadata": {
    "collapsed": true
   },
   "outputs": [],
   "source": [
    "stay_year = data.loc[:,\"Stay_In_Current_City_Years\"]"
   ]
  },
  {
   "cell_type": "code",
   "execution_count": 66,
   "metadata": {
    "collapsed": false
   },
   "outputs": [
    {
     "data": {
      "text/plain": [
       "1     3190\n",
       "3     1891\n",
       "2     1770\n",
       "4+    1684\n",
       "0     1465\n",
       "Name: Stay_In_Current_City_Years, dtype: int64"
      ]
     },
     "execution_count": 66,
     "metadata": {},
     "output_type": "execute_result"
    }
   ],
   "source": [
    "stay_year.value_counts()"
   ]
  },
  {
   "cell_type": "code",
   "execution_count": 67,
   "metadata": {
    "collapsed": true
   },
   "outputs": [],
   "source": [
    "stay_year_mapping = {'1':1, '2':2, '3':3, '4+':4, '0':0}"
   ]
  },
  {
   "cell_type": "code",
   "execution_count": 68,
   "metadata": {
    "collapsed": true
   },
   "outputs": [],
   "source": [
    "data.loc[:,'Stay_In_Current_City_Years'] = data.loc[:,'Stay_In_Current_City_Years'].map(stay_year_mapping)"
   ]
  },
  {
   "cell_type": "code",
   "execution_count": 69,
   "metadata": {
    "collapsed": true
   },
   "outputs": [],
   "source": [
    "stay1 = pd.get_dummies(data.loc[:,'Stay_In_Current_City_Years'])[1]\n",
    "stay2 = pd.get_dummies(data.loc[:,'Stay_In_Current_City_Years'])[2]\n",
    "stay3 = pd.get_dummies(data.loc[:,'Stay_In_Current_City_Years'])[3]\n",
    "stay4plus = pd.get_dummies(data.loc[:,'Stay_In_Current_City_Years'])[4]"
   ]
  },
  {
   "cell_type": "code",
   "execution_count": 70,
   "metadata": {
    "collapsed": true
   },
   "outputs": [],
   "source": [
    "age = data.loc[:,\"Age\"]"
   ]
  },
  {
   "cell_type": "code",
   "execution_count": 71,
   "metadata": {
    "collapsed": false
   },
   "outputs": [
    {
     "data": {
      "text/plain": [
       "26-35    3776\n",
       "18-25    2118\n",
       "36-45    1961\n",
       "46-50     752\n",
       "51-55     690\n",
       "0-17      378\n",
       "55+       325\n",
       "Name: Age, dtype: int64"
      ]
     },
     "execution_count": 71,
     "metadata": {},
     "output_type": "execute_result"
    }
   ],
   "source": [
    "age.value_counts()"
   ]
  },
  {
   "cell_type": "code",
   "execution_count": 72,
   "metadata": {
    "collapsed": true
   },
   "outputs": [],
   "source": [
    "age_mapping = {'0-17':0, '18-25':1, '26-35':2, '36-45':3, '46-50':4, '51-55':5, '55+':6}"
   ]
  },
  {
   "cell_type": "code",
   "execution_count": 73,
   "metadata": {
    "collapsed": true
   },
   "outputs": [],
   "source": [
    "data.loc[:,'Age'] = data.loc[:,'Age'].map(age_mapping)"
   ]
  },
  {
   "cell_type": "code",
   "execution_count": 74,
   "metadata": {
    "collapsed": true
   },
   "outputs": [],
   "source": [
    "age18 = pd.get_dummies(data.loc[:,'Age'])[1]\n",
    "age26 = pd.get_dummies(data.loc[:,'Age'])[2]\n",
    "age36 = pd.get_dummies(data.loc[:,'Age'])[3]\n",
    "age46 = pd.get_dummies(data.loc[:,'Age'])[4]\n",
    "age51 = pd.get_dummies(data.loc[:,'Age'])[5]\n",
    "age55plus = pd.get_dummies(data.loc[:,'Age'])[6]"
   ]
  },
  {
   "cell_type": "markdown",
   "metadata": {},
   "source": [
    "Check whether the data contains missing values."
   ]
  },
  {
   "cell_type": "code",
   "execution_count": 75,
   "metadata": {
    "collapsed": false
   },
   "outputs": [
    {
     "data": {
      "text/plain": [
       "0"
      ]
     },
     "execution_count": 75,
     "metadata": {},
     "output_type": "execute_result"
    }
   ],
   "source": [
    "data.loc[:,'Gender'].isnull().sum()"
   ]
  },
  {
   "cell_type": "code",
   "execution_count": 76,
   "metadata": {
    "collapsed": false
   },
   "outputs": [
    {
     "data": {
      "text/plain": [
       "0"
      ]
     },
     "execution_count": 76,
     "metadata": {},
     "output_type": "execute_result"
    }
   ],
   "source": [
    "data.loc[:,'Age'].isnull().sum()"
   ]
  },
  {
   "cell_type": "code",
   "execution_count": 77,
   "metadata": {
    "collapsed": false
   },
   "outputs": [
    {
     "data": {
      "text/plain": [
       "0"
      ]
     },
     "execution_count": 77,
     "metadata": {},
     "output_type": "execute_result"
    }
   ],
   "source": [
    "data.loc[:,'Occupation'].isnull().sum()"
   ]
  },
  {
   "cell_type": "code",
   "execution_count": 78,
   "metadata": {
    "collapsed": false
   },
   "outputs": [
    {
     "data": {
      "text/plain": [
       "0"
      ]
     },
     "execution_count": 78,
     "metadata": {},
     "output_type": "execute_result"
    }
   ],
   "source": [
    "data.loc[:,'City_Category'].isnull().sum()"
   ]
  },
  {
   "cell_type": "code",
   "execution_count": 79,
   "metadata": {
    "collapsed": false
   },
   "outputs": [
    {
     "data": {
      "text/plain": [
       "0"
      ]
     },
     "execution_count": 79,
     "metadata": {},
     "output_type": "execute_result"
    }
   ],
   "source": [
    "data.loc[:,'Stay_In_Current_City_Years'].isnull().sum()"
   ]
  },
  {
   "cell_type": "code",
   "execution_count": 80,
   "metadata": {
    "collapsed": false
   },
   "outputs": [
    {
     "data": {
      "text/plain": [
       "0"
      ]
     },
     "execution_count": 80,
     "metadata": {},
     "output_type": "execute_result"
    }
   ],
   "source": [
    "data.loc[:,'Marital_Status'].isnull().sum()"
   ]
  },
  {
   "cell_type": "code",
   "execution_count": 81,
   "metadata": {
    "collapsed": false
   },
   "outputs": [
    {
     "data": {
      "text/plain": [
       "0"
      ]
     },
     "execution_count": 81,
     "metadata": {},
     "output_type": "execute_result"
    }
   ],
   "source": [
    "data.loc[:,'Product_Category_1'].isnull().sum()"
   ]
  },
  {
   "cell_type": "code",
   "execution_count": 82,
   "metadata": {
    "collapsed": false
   },
   "outputs": [
    {
     "data": {
      "text/plain": [
       "0"
      ]
     },
     "execution_count": 82,
     "metadata": {},
     "output_type": "execute_result"
    }
   ],
   "source": [
    "data.loc[:,'Product_Category_2'].isnull().sum()"
   ]
  },
  {
   "cell_type": "markdown",
   "metadata": {},
   "source": [
    "'Age', 'City_Category', 'Stay_In_Current_City_Years' and 'Occupation' should be replaced by the dummy variables."
   ]
  },
  {
   "cell_type": "code",
   "execution_count": 84,
   "metadata": {
    "collapsed": true
   },
   "outputs": [],
   "source": [
    "cutdata = data.drop([\"Age\", \"City_Category\", \"Stay_In_Current_City_Years\"], axis = 1)"
   ]
  },
  {
   "cell_type": "markdown",
   "metadata": {},
   "source": [
    "To avoid the collinearity, I take \"city A\", \"stay0\" and \"age0-17\" as reference group."
   ]
  },
  {
   "cell_type": "code",
   "execution_count": 85,
   "metadata": {
    "collapsed": true
   },
   "outputs": [],
   "source": [
    "cutdata.insert(0,\"city_B\", city_B)\n",
    "cutdata.insert(0,\"city_C\", city_C)\n",
    "cutdata.insert(0,\"stay1\", stay1)\n",
    "cutdata.insert(0,\"stay2\", stay2)\n",
    "cutdata.insert(0,\"stay3\", stay3)\n",
    "cutdata.insert(0,\"stay4+\", stay4plus)\n",
    "cutdata.insert(0,\"age18\", age18)\n",
    "cutdata.insert(0,\"age26\", age26)\n",
    "cutdata.insert(0,\"age36\", age36)\n",
    "cutdata.insert(0,\"age46\", age46)\n",
    "cutdata.insert(0,\"age51\", age51)\n",
    "cutdata.insert(0,\"age55+\", age55plus)"
   ]
  },
  {
   "cell_type": "code",
   "execution_count": 86,
   "metadata": {
    "collapsed": false
   },
   "outputs": [
    {
     "data": {
      "text/html": [
       "<div>\n",
       "<table border=\"1\" class=\"dataframe\">\n",
       "  <thead>\n",
       "    <tr style=\"text-align: right;\">\n",
       "      <th></th>\n",
       "      <th>age55+</th>\n",
       "      <th>age51</th>\n",
       "      <th>age46</th>\n",
       "      <th>age36</th>\n",
       "      <th>age26</th>\n",
       "      <th>age18</th>\n",
       "      <th>stay4+</th>\n",
       "      <th>stay3</th>\n",
       "      <th>stay2</th>\n",
       "      <th>stay1</th>\n",
       "      <th>city_C</th>\n",
       "      <th>city_B</th>\n",
       "      <th>Gender</th>\n",
       "      <th>Occupation</th>\n",
       "      <th>Marital_Status</th>\n",
       "      <th>Product_Category_1</th>\n",
       "      <th>Product_Category_2</th>\n",
       "      <th>Product_Category_3</th>\n",
       "      <th>Purchase</th>\n",
       "    </tr>\n",
       "  </thead>\n",
       "  <tbody>\n",
       "    <tr>\n",
       "      <th>0</th>\n",
       "      <td>0.0</td>\n",
       "      <td>0.0</td>\n",
       "      <td>0.0</td>\n",
       "      <td>0.0</td>\n",
       "      <td>0.0</td>\n",
       "      <td>0.0</td>\n",
       "      <td>0.0</td>\n",
       "      <td>0.0</td>\n",
       "      <td>1.0</td>\n",
       "      <td>0.0</td>\n",
       "      <td>0.0</td>\n",
       "      <td>0.0</td>\n",
       "      <td>0</td>\n",
       "      <td>10</td>\n",
       "      <td>0</td>\n",
       "      <td>3</td>\n",
       "      <td>0.0</td>\n",
       "      <td>0.0</td>\n",
       "      <td>8370</td>\n",
       "    </tr>\n",
       "    <tr>\n",
       "      <th>1</th>\n",
       "      <td>0.0</td>\n",
       "      <td>0.0</td>\n",
       "      <td>0.0</td>\n",
       "      <td>0.0</td>\n",
       "      <td>0.0</td>\n",
       "      <td>0.0</td>\n",
       "      <td>0.0</td>\n",
       "      <td>0.0</td>\n",
       "      <td>1.0</td>\n",
       "      <td>0.0</td>\n",
       "      <td>0.0</td>\n",
       "      <td>0.0</td>\n",
       "      <td>0</td>\n",
       "      <td>10</td>\n",
       "      <td>0</td>\n",
       "      <td>1</td>\n",
       "      <td>6.0</td>\n",
       "      <td>14.0</td>\n",
       "      <td>15200</td>\n",
       "    </tr>\n",
       "    <tr>\n",
       "      <th>2</th>\n",
       "      <td>0.0</td>\n",
       "      <td>0.0</td>\n",
       "      <td>0.0</td>\n",
       "      <td>0.0</td>\n",
       "      <td>0.0</td>\n",
       "      <td>0.0</td>\n",
       "      <td>0.0</td>\n",
       "      <td>0.0</td>\n",
       "      <td>1.0</td>\n",
       "      <td>0.0</td>\n",
       "      <td>0.0</td>\n",
       "      <td>0.0</td>\n",
       "      <td>0</td>\n",
       "      <td>10</td>\n",
       "      <td>0</td>\n",
       "      <td>12</td>\n",
       "      <td>0.0</td>\n",
       "      <td>0.0</td>\n",
       "      <td>1422</td>\n",
       "    </tr>\n",
       "    <tr>\n",
       "      <th>3</th>\n",
       "      <td>0.0</td>\n",
       "      <td>0.0</td>\n",
       "      <td>0.0</td>\n",
       "      <td>0.0</td>\n",
       "      <td>0.0</td>\n",
       "      <td>0.0</td>\n",
       "      <td>0.0</td>\n",
       "      <td>0.0</td>\n",
       "      <td>1.0</td>\n",
       "      <td>0.0</td>\n",
       "      <td>0.0</td>\n",
       "      <td>0.0</td>\n",
       "      <td>0</td>\n",
       "      <td>10</td>\n",
       "      <td>0</td>\n",
       "      <td>12</td>\n",
       "      <td>14.0</td>\n",
       "      <td>0.0</td>\n",
       "      <td>1057</td>\n",
       "    </tr>\n",
       "    <tr>\n",
       "      <th>4</th>\n",
       "      <td>1.0</td>\n",
       "      <td>0.0</td>\n",
       "      <td>0.0</td>\n",
       "      <td>0.0</td>\n",
       "      <td>0.0</td>\n",
       "      <td>0.0</td>\n",
       "      <td>1.0</td>\n",
       "      <td>0.0</td>\n",
       "      <td>0.0</td>\n",
       "      <td>0.0</td>\n",
       "      <td>1.0</td>\n",
       "      <td>0.0</td>\n",
       "      <td>1</td>\n",
       "      <td>16</td>\n",
       "      <td>0</td>\n",
       "      <td>8</td>\n",
       "      <td>0.0</td>\n",
       "      <td>0.0</td>\n",
       "      <td>7969</td>\n",
       "    </tr>\n",
       "  </tbody>\n",
       "</table>\n",
       "</div>"
      ],
      "text/plain": [
       "   age55+  age51  age46  age36  age26  age18  stay4+  stay3  stay2  stay1  \\\n",
       "0     0.0    0.0    0.0    0.0    0.0    0.0     0.0    0.0    1.0    0.0   \n",
       "1     0.0    0.0    0.0    0.0    0.0    0.0     0.0    0.0    1.0    0.0   \n",
       "2     0.0    0.0    0.0    0.0    0.0    0.0     0.0    0.0    1.0    0.0   \n",
       "3     0.0    0.0    0.0    0.0    0.0    0.0     0.0    0.0    1.0    0.0   \n",
       "4     1.0    0.0    0.0    0.0    0.0    0.0     1.0    0.0    0.0    0.0   \n",
       "\n",
       "   city_C  city_B  Gender  Occupation  Marital_Status  Product_Category_1  \\\n",
       "0     0.0     0.0       0          10               0                   3   \n",
       "1     0.0     0.0       0          10               0                   1   \n",
       "2     0.0     0.0       0          10               0                  12   \n",
       "3     0.0     0.0       0          10               0                  12   \n",
       "4     1.0     0.0       1          16               0                   8   \n",
       "\n",
       "   Product_Category_2  Product_Category_3  Purchase  \n",
       "0                 0.0                 0.0      8370  \n",
       "1                 6.0                14.0     15200  \n",
       "2                 0.0                 0.0      1422  \n",
       "3                14.0                 0.0      1057  \n",
       "4                 0.0                 0.0      7969  "
      ]
     },
     "execution_count": 86,
     "metadata": {},
     "output_type": "execute_result"
    }
   ],
   "source": [
    "cutdata.head(5)"
   ]
  },
  {
   "cell_type": "code",
   "execution_count": 87,
   "metadata": {
    "collapsed": true
   },
   "outputs": [],
   "source": [
    "Y = cutdata['Purchase']"
   ]
  },
  {
   "cell_type": "code",
   "execution_count": 88,
   "metadata": {
    "collapsed": true
   },
   "outputs": [],
   "source": [
    "cutdata = cutdata.drop(['Purchase'], axis = 1)"
   ]
  },
  {
   "cell_type": "markdown",
   "metadata": {},
   "source": [
    "### Do the multiple linear regression with all variables. "
   ]
  },
  {
   "cell_type": "code",
   "execution_count": 89,
   "metadata": {
    "collapsed": true
   },
   "outputs": [],
   "source": [
    "from sklearn import linear_model\n",
    "import statsmodels.api as sm"
   ]
  },
  {
   "cell_type": "code",
   "execution_count": 90,
   "metadata": {
    "collapsed": true
   },
   "outputs": [],
   "source": [
    "regr = linear_model.LinearRegression()\n",
    "regr = regr.fit(cutdata, Y)"
   ]
  },
  {
   "cell_type": "code",
   "execution_count": 91,
   "metadata": {
    "collapsed": false
   },
   "outputs": [
    {
     "name": "stdout",
     "output_type": "stream",
     "text": [
      "9226.10485877 [ -83.90088142  427.99481872   51.8353424    60.19310179   56.33704115\n",
      " -243.85819955  286.82038626   51.9216188   436.21755556  286.02426237\n",
      "  799.30144014  271.66131867  608.12504892   -8.56557871  -52.60279027\n",
      " -318.61786522   14.98402341  147.94213362]\n"
     ]
    }
   ],
   "source": [
    "print(regr.intercept_,regr.coef_)"
   ]
  },
  {
   "cell_type": "code",
   "execution_count": 92,
   "metadata": {
    "collapsed": false,
    "scrolled": false
   },
   "outputs": [
    {
     "data": {
      "text/html": [
       "<table class=\"simpletable\">\n",
       "<caption>OLS Regression Results</caption>\n",
       "<tr>\n",
       "  <th>Dep. Variable:</th>        <td>Purchase</td>     <th>  R-squared:         </th> <td>   0.144</td> \n",
       "</tr>\n",
       "<tr>\n",
       "  <th>Model:</th>                   <td>OLS</td>       <th>  Adj. R-squared:    </th> <td>   0.142</td> \n",
       "</tr>\n",
       "<tr>\n",
       "  <th>Method:</th>             <td>Least Squares</td>  <th>  F-statistic:       </th> <td>   93.10</td> \n",
       "</tr>\n",
       "<tr>\n",
       "  <th>Date:</th>             <td>Tue, 25 Feb 2020</td> <th>  Prob (F-statistic):</th> <td>7.47e-319</td>\n",
       "</tr>\n",
       "<tr>\n",
       "  <th>Time:</th>                 <td>09:02:26</td>     <th>  Log-Likelihood:    </th> <td> -98345.</td> \n",
       "</tr>\n",
       "<tr>\n",
       "  <th>No. Observations:</th>      <td> 10000</td>      <th>  AIC:               </th> <td>1.967e+05</td>\n",
       "</tr>\n",
       "<tr>\n",
       "  <th>Df Residuals:</th>          <td>  9981</td>      <th>  BIC:               </th> <td>1.969e+05</td>\n",
       "</tr>\n",
       "<tr>\n",
       "  <th>Df Model:</th>              <td>    18</td>      <th>                     </th>     <td> </td>    \n",
       "</tr>\n",
       "<tr>\n",
       "  <th>Covariance Type:</th>      <td>nonrobust</td>    <th>                     </th>     <td> </td>    \n",
       "</tr>\n",
       "</table>\n",
       "<table class=\"simpletable\">\n",
       "<tr>\n",
       "           <td></td>             <th>coef</th>     <th>std err</th>      <th>t</th>      <th>P>|t|</th> <th>[95.0% Conf. Int.]</th> \n",
       "</tr>\n",
       "<tr>\n",
       "  <th>const</th>              <td> 9226.1049</td> <td>  295.113</td> <td>   31.263</td> <td> 0.000</td> <td> 8647.623  9804.586</td>\n",
       "</tr>\n",
       "<tr>\n",
       "  <th>age55+</th>             <td>  -83.9009</td> <td>  348.106</td> <td>   -0.241</td> <td> 0.810</td> <td> -766.259   598.457</td>\n",
       "</tr>\n",
       "<tr>\n",
       "  <th>age51</th>              <td>  427.9948</td> <td>  301.732</td> <td>    1.418</td> <td> 0.156</td> <td> -163.461  1019.450</td>\n",
       "</tr>\n",
       "<tr>\n",
       "  <th>age46</th>              <td>   51.8353</td> <td>  294.219</td> <td>    0.176</td> <td> 0.860</td> <td> -524.894   628.564</td>\n",
       "</tr>\n",
       "<tr>\n",
       "  <th>age36</th>              <td>   60.1931</td> <td>  259.719</td> <td>    0.232</td> <td> 0.817</td> <td> -448.909   569.295</td>\n",
       "</tr>\n",
       "<tr>\n",
       "  <th>age26</th>              <td>   56.3370</td> <td>  248.982</td> <td>    0.226</td> <td> 0.821</td> <td> -431.718   544.392</td>\n",
       "</tr>\n",
       "<tr>\n",
       "  <th>age18</th>              <td> -243.8582</td> <td>  255.747</td> <td>   -0.954</td> <td> 0.340</td> <td> -745.174   257.457</td>\n",
       "</tr>\n",
       "<tr>\n",
       "  <th>stay4+</th>             <td>  286.8204</td> <td>  163.962</td> <td>    1.749</td> <td> 0.080</td> <td>  -34.578   608.219</td>\n",
       "</tr>\n",
       "<tr>\n",
       "  <th>stay3</th>              <td>   51.9216</td> <td>  158.308</td> <td>    0.328</td> <td> 0.743</td> <td> -258.395   362.238</td>\n",
       "</tr>\n",
       "<tr>\n",
       "  <th>stay2</th>              <td>  436.2176</td> <td>  160.530</td> <td>    2.717</td> <td> 0.007</td> <td>  121.547   750.888</td>\n",
       "</tr>\n",
       "<tr>\n",
       "  <th>stay1</th>              <td>  286.0243</td> <td>  144.610</td> <td>    1.978</td> <td> 0.048</td> <td>    2.559   569.489</td>\n",
       "</tr>\n",
       "<tr>\n",
       "  <th>city_C</th>             <td>  799.3014</td> <td>  117.295</td> <td>    6.814</td> <td> 0.000</td> <td>  569.379  1029.224</td>\n",
       "</tr>\n",
       "<tr>\n",
       "  <th>city_B</th>             <td>  271.6613</td> <td>  109.516</td> <td>    2.481</td> <td> 0.013</td> <td>   56.989   486.334</td>\n",
       "</tr>\n",
       "<tr>\n",
       "  <th>Gender</th>             <td>  608.1250</td> <td>  108.732</td> <td>    5.593</td> <td> 0.000</td> <td>  394.988   821.262</td>\n",
       "</tr>\n",
       "<tr>\n",
       "  <th>Occupation</th>         <td>   -8.5656</td> <td>    7.025</td> <td>   -1.219</td> <td> 0.223</td> <td>  -22.336     5.205</td>\n",
       "</tr>\n",
       "<tr>\n",
       "  <th>Marital_Status</th>     <td>  -52.6028</td> <td>   99.295</td> <td>   -0.530</td> <td> 0.596</td> <td> -247.241   142.035</td>\n",
       "</tr>\n",
       "<tr>\n",
       "  <th>Product_Category_1</th> <td> -318.6179</td> <td>   13.515</td> <td>  -23.575</td> <td> 0.000</td> <td> -345.111  -292.125</td>\n",
       "</tr>\n",
       "<tr>\n",
       "  <th>Product_Category_2</th> <td>   14.9840</td> <td>    7.364</td> <td>    2.035</td> <td> 0.042</td> <td>    0.549    29.419</td>\n",
       "</tr>\n",
       "<tr>\n",
       "  <th>Product_Category_3</th> <td>  147.9421</td> <td>    7.901</td> <td>   18.724</td> <td> 0.000</td> <td>  132.454   163.430</td>\n",
       "</tr>\n",
       "</table>\n",
       "<table class=\"simpletable\">\n",
       "<tr>\n",
       "  <th>Omnibus:</th>       <td>1004.057</td> <th>  Durbin-Watson:     </th> <td>   1.762</td> \n",
       "</tr>\n",
       "<tr>\n",
       "  <th>Prob(Omnibus):</th>  <td> 0.000</td>  <th>  Jarque-Bera (JB):  </th> <td>1388.299</td> \n",
       "</tr>\n",
       "<tr>\n",
       "  <th>Skew:</th>           <td> 0.807</td>  <th>  Prob(JB):          </th> <td>3.43e-302</td>\n",
       "</tr>\n",
       "<tr>\n",
       "  <th>Kurtosis:</th>       <td> 3.852</td>  <th>  Cond. No.          </th> <td>    201.</td> \n",
       "</tr>\n",
       "</table>"
      ],
      "text/plain": [
       "<class 'statsmodels.iolib.summary.Summary'>\n",
       "\"\"\"\n",
       "                            OLS Regression Results                            \n",
       "==============================================================================\n",
       "Dep. Variable:               Purchase   R-squared:                       0.144\n",
       "Model:                            OLS   Adj. R-squared:                  0.142\n",
       "Method:                 Least Squares   F-statistic:                     93.10\n",
       "Date:                Tue, 25 Feb 2020   Prob (F-statistic):          7.47e-319\n",
       "Time:                        09:02:26   Log-Likelihood:                -98345.\n",
       "No. Observations:               10000   AIC:                         1.967e+05\n",
       "Df Residuals:                    9981   BIC:                         1.969e+05\n",
       "Df Model:                          18                                         \n",
       "Covariance Type:            nonrobust                                         \n",
       "======================================================================================\n",
       "                         coef    std err          t      P>|t|      [95.0% Conf. Int.]\n",
       "--------------------------------------------------------------------------------------\n",
       "const               9226.1049    295.113     31.263      0.000      8647.623  9804.586\n",
       "age55+               -83.9009    348.106     -0.241      0.810      -766.259   598.457\n",
       "age51                427.9948    301.732      1.418      0.156      -163.461  1019.450\n",
       "age46                 51.8353    294.219      0.176      0.860      -524.894   628.564\n",
       "age36                 60.1931    259.719      0.232      0.817      -448.909   569.295\n",
       "age26                 56.3370    248.982      0.226      0.821      -431.718   544.392\n",
       "age18               -243.8582    255.747     -0.954      0.340      -745.174   257.457\n",
       "stay4+               286.8204    163.962      1.749      0.080       -34.578   608.219\n",
       "stay3                 51.9216    158.308      0.328      0.743      -258.395   362.238\n",
       "stay2                436.2176    160.530      2.717      0.007       121.547   750.888\n",
       "stay1                286.0243    144.610      1.978      0.048         2.559   569.489\n",
       "city_C               799.3014    117.295      6.814      0.000       569.379  1029.224\n",
       "city_B               271.6613    109.516      2.481      0.013        56.989   486.334\n",
       "Gender               608.1250    108.732      5.593      0.000       394.988   821.262\n",
       "Occupation            -8.5656      7.025     -1.219      0.223       -22.336     5.205\n",
       "Marital_Status       -52.6028     99.295     -0.530      0.596      -247.241   142.035\n",
       "Product_Category_1  -318.6179     13.515    -23.575      0.000      -345.111  -292.125\n",
       "Product_Category_2    14.9840      7.364      2.035      0.042         0.549    29.419\n",
       "Product_Category_3   147.9421      7.901     18.724      0.000       132.454   163.430\n",
       "==============================================================================\n",
       "Omnibus:                     1004.057   Durbin-Watson:                   1.762\n",
       "Prob(Omnibus):                  0.000   Jarque-Bera (JB):             1388.299\n",
       "Skew:                           0.807   Prob(JB):                    3.43e-302\n",
       "Kurtosis:                       3.852   Cond. No.                         201.\n",
       "==============================================================================\n",
       "\n",
       "Warnings:\n",
       "[1] Standard Errors assume that the covariance matrix of the errors is correctly specified.\n",
       "\"\"\""
      ]
     },
     "execution_count": 92,
     "metadata": {},
     "output_type": "execute_result"
    }
   ],
   "source": [
    "cutdata = sm.add_constant(cutdata)\n",
    "model = sm.OLS(Y,cutdata).fit()\n",
    "model.summary()"
   ]
  },
  {
   "cell_type": "markdown",
   "metadata": {},
   "source": [
    "According to the above table, it comes to some inferences."
   ]
  },
  {
   "cell_type": "markdown",
   "metadata": {},
   "source": [
    "The p-value of constant term, Stay1, stay2, city, Product_Category_1, Product_Category_2 andProduct_Category_3 are minor than 0.05. It indicates that the above variables are influential to the purchase."
   ]
  },
  {
   "cell_type": "markdown",
   "metadata": {},
   "source": [
    "Compared to residents in city A and city B, dwellers in city C spent more money on Black Friday."
   ]
  },
  {
   "cell_type": "markdown",
   "metadata": {},
   "source": [
    "People who stay in a city for less than one year consumed less than one who lives in the same place for 2 or 3 years."
   ]
  },
  {
   "cell_type": "markdown",
   "metadata": {},
   "source": [
    "The effect of the product category 2 is much limited to one of the product 1 and product 3."
   ]
  },
  {
   "cell_type": "markdown",
   "metadata": {},
   "source": [
    "Strangely, the coefficient of the term \"Product_Category_1\" is negative. The more amount of merchandise of category 1 one buys, the minor the total purchase."
   ]
  },
  {
   "cell_type": "markdown",
   "metadata": {},
   "source": [
    "### Show the residuals plots against the fitted response variables. "
   ]
  },
  {
   "cell_type": "code",
   "execution_count": 93,
   "metadata": {
    "collapsed": true
   },
   "outputs": [],
   "source": [
    "ypred = model.predict(cutdata)"
   ]
  },
  {
   "cell_type": "code",
   "execution_count": 94,
   "metadata": {
    "collapsed": true
   },
   "outputs": [],
   "source": [
    "Residual = Y-ypred"
   ]
  },
  {
   "cell_type": "code",
   "execution_count": 95,
   "metadata": {
    "collapsed": false
   },
   "outputs": [
    {
     "data": {
      "image/png": "[encoded data removed]",
      "text/plain": [
       "<matplotlib.figure.Figure at 0x7fdf4c32a860>"
      ]
     },
     "metadata": {},
     "output_type": "display_data"
    }
   ],
   "source": [
    "plot_1 = plt.figure()\n",
    "plot_1.axes[0] = sns.residplot(ypred,Residual , data=cutdata, lowess=True, scatter_kws={'alpha': 0.5}, line_kws={'color': 'red', 'lw': 1, 'alpha': 0.8})\n",
    "plot_1.axes[0].set_title('Residuals vs Fitted')\n",
    "plot_1.axes[0].set_xlabel('Fitted values(ypred)')\n",
    "plot_1.axes[0].set_ylabel('Residuals');"
   ]
  },
  {
   "cell_type": "markdown",
   "metadata": {},
   "source": [
    "The bow-shaped line in red indicates that we are failing to capture some of the non-linear features of the model. "
   ]
  },
  {
   "cell_type": "markdown",
   "metadata": {},
   "source": [
    "In other words, the variance in the data might be better captured using the square of one or more of the features."
   ]
  },
  {
   "cell_type": "code",
   "execution_count": 96,
   "metadata": {
    "collapsed": false
   },
   "outputs": [
    {
     "data": {
      "text/plain": [
       "<matplotlib.text.Text at 0x7fdf4c2b9a58>"
      ]
     },
     "execution_count": 96,
     "metadata": {},
     "output_type": "execute_result"
    },
    {
     "data": {
      "image/png": "[encoded data removed]",
      "text/plain": [
       "<matplotlib.figure.Figure at 0x7fdf4c32a390>"
      ]
     },
     "metadata": {},
     "output_type": "display_data"
    }
   ],
   "source": [
    "plot_2 = plt.figure()\n",
    "plot_2.axes[0] = sns.distplot(Residual)\n",
    "plot_2.axes[0].set_title('Distribution of Residuals')\n",
    "plot_2.axes[0].set_xlabel('Residuals')\n",
    "plot_2.axes[0].set_ylabel('Frequencies')"
   ]
  },
  {
   "cell_type": "markdown",
   "metadata": {
    "collapsed": true
   },
   "source": [
    "By the above plot, the residual follows the normal probability distribution."
   ]
  },
  {
   "cell_type": "code",
   "execution_count": null,
   "metadata": {
    "collapsed": true
   },
   "outputs": [],
   "source": []
  }
 ],
 "metadata": {
  "kernelspec": {
   "display_name": "Python 3",
   "language": "python",
   "name": "python3"
  },
  "language_info": {
   "codemirror_mode": {
    "name": "ipython",
    "version": 3
   },
   "file_extension": ".py",
   "mimetype": "text/x-python",
   "name": "python",
   "nbconvert_exporter": "python",
   "pygments_lexer": "ipython3",
   "version": "3.5.4"
  }
 },
 "nbformat": 4,
 "nbformat_minor": 2
}
